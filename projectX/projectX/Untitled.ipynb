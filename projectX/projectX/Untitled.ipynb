{
 "cells": [
  {
   "cell_type": "code",
   "execution_count": 17,
   "metadata": {},
   "outputs": [],
   "source": [
    "import pandas as pd"
   ]
  },
  {
   "cell_type": "code",
   "execution_count": 3,
   "metadata": {},
   "outputs": [],
   "source": [
    "low_memory = False\n",
    "ham = pd.read_csv('billing_report_August2020.csv')"
   ]
  },
  {
   "cell_type": "code",
   "execution_count": 18,
   "metadata": {},
   "outputs": [
    {
     "name": "stdout",
     "output_type": "stream",
     "text": [
      "  CUST_CODE                                   CUST_NAME       ACC_NBR  \\\n",
      "0    SOL006  TRAC - KING (PRIVATE LIMITED) (SMS  ONLY )  2.637325e+11   \n",
      "1    SOL006  TRAC - KING (PRIVATE LIMITED) (SMS  ONLY )  2.637325e+11   \n",
      "2    AMT002                                 AMTRAK HIRE  2.637335e+11   \n",
      "3    SOL006  TRAC - KING (PRIVATE LIMITED) (SMS  ONLY )  2.637325e+11   \n",
      "4    SOL006  TRAC - KING (PRIVATE LIMITED) (SMS  ONLY )  2.637325e+11   \n",
      "\n",
      "       PRICE_PLAN_NAME  SUBS_ID RECURRING_FEE TELEMUNE     SMC  \\\n",
      "0  Club Senior Default   1144.0             0        0    0.99   \n",
      "1  Club Senior Default   1323.0             0        0    1.98   \n",
      "2  Televantage Default   1335.0          5.22        0  66.936   \n",
      "3  Club Senior Default   1434.0             0        0    1.98   \n",
      "4  Club Senior Default   1910.0             0        0    1.65   \n",
      "\n",
      "  TELECEL_TO_ECONET INTERNATIONAL  ... TELECEL_TO_NETONE TELECEL_TO_TELONE  \\\n",
      "0                 0             0  ...                 0                 0   \n",
      "1                 0             0  ...                 0                 0   \n",
      "2           15.5949             0  ...           10.4387            0.3109   \n",
      "3                 0             0  ...                 0                 0   \n",
      "4                 0             0  ...                 0                 0   \n",
      "\n",
      "  TELECEL_TO_POWERTEL ROAMING  TELECEL  LIQUID DISCOUNT TOTAL B4 TAX      TAX  \\\n",
      "0                   0       0        0       0        0         0.99  0.14355   \n",
      "1                   0       0        0       0        0         1.98   0.2871   \n",
      "2                   0       0  17.2129  0.6089        0      116.322  16.8667   \n",
      "3                   0       0        0       0        0         1.98   0.2871   \n",
      "4                   0       0        0       0        0         1.65  0.23925   \n",
      "\n",
      "     TOTAL  \n",
      "0  1.13355  \n",
      "1   2.2671  \n",
      "2  133.189  \n",
      "3   2.2671  \n",
      "4  1.88925  \n",
      "\n",
      "[5 rows x 21 columns]\n"
     ]
    }
   ],
   "source": [
    "print(ham.head(5))"
   ]
  },
  {
   "cell_type": "code",
   "execution_count": null,
   "metadata": {},
   "outputs": [],
   "source": []
  }
 ],
 "metadata": {
  "kernelspec": {
   "display_name": "Python 3",
   "language": "python",
   "name": "python3"
  },
  "language_info": {
   "codemirror_mode": {
    "name": "ipython",
    "version": 3
   },
   "file_extension": ".py",
   "mimetype": "text/x-python",
   "name": "python",
   "nbconvert_exporter": "python",
   "pygments_lexer": "ipython3",
   "version": "3.8.6"
  }
 },
 "nbformat": 4,
 "nbformat_minor": 4
}
